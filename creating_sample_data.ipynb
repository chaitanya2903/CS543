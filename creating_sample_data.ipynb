{
 "cells": [
  {
   "cell_type": "code",
   "execution_count": 1,
   "id": "588c8c31",
   "metadata": {},
   "outputs": [],
   "source": [
    "import vaex\n",
    "import numpy as np"
   ]
  },
  {
   "cell_type": "code",
   "execution_count": 2,
   "id": "b66c6f0d",
   "metadata": {},
   "outputs": [],
   "source": [
    "sample_size = 3000\n",
    "rand = 17"
   ]
  },
  {
   "cell_type": "code",
   "execution_count": 2,
   "id": "7658c210",
   "metadata": {},
   "outputs": [],
   "source": [
    "df_active = vaex.from_csv(\"Active Wiretap_dataset-002.csv\", header=None)"
   ]
  },
  {
   "cell_type": "code",
   "execution_count": 3,
   "id": "e846b331",
   "metadata": {},
   "outputs": [],
   "source": [
    "sample_active = df_active.sample(sample_size, random_state=rand)"
   ]
  },
  {
   "cell_type": "code",
   "execution_count": 4,
   "id": "f2642b92",
   "metadata": {},
   "outputs": [],
   "source": [
    "sample_active.export_csv(\"sample_3k/sample_3k_active.csv\", header=False)"
   ]
  },
  {
   "cell_type": "code",
   "execution_count": 5,
   "id": "3a4c66bc",
   "metadata": {},
   "outputs": [],
   "source": [
    "df_ARP = vaex.from_csv('ARP MitM_dataset-002.csv', header=None)"
   ]
  },
  {
   "cell_type": "code",
   "execution_count": 6,
   "id": "e7a497d4",
   "metadata": {},
   "outputs": [],
   "source": [
    "sample_ARP = df_ARP.sample(sample_size, random_state=rand)"
   ]
  },
  {
   "cell_type": "code",
   "execution_count": 7,
   "id": "46a44bf5",
   "metadata": {},
   "outputs": [],
   "source": [
    "sample_ARP.export_csv(\"sample_3k/sample_3k_ARP.csv\", header=False)"
   ]
  },
  {
   "cell_type": "code",
   "execution_count": 2,
   "id": "a2801790",
   "metadata": {},
   "outputs": [],
   "source": [
    "df_fuzzing = vaex.from_csv('Fuzzing_dataset-002.csv', header=None)"
   ]
  },
  {
   "cell_type": "code",
   "execution_count": 3,
   "id": "9c3c1fee",
   "metadata": {},
   "outputs": [],
   "source": [
    "sample_fuzzing = df_fuzzing.sample(sample_size, random_state=rand)"
   ]
  },
  {
   "cell_type": "code",
   "execution_count": 4,
   "id": "4959ae91",
   "metadata": {},
   "outputs": [],
   "source": [
    "sample_fuzzing.export_csv(\"sample_3k/sample_3k_fuzzing.csv\", header=False)"
   ]
  },
  {
   "cell_type": "code",
   "execution_count": null,
   "id": "27995573",
   "metadata": {},
   "outputs": [],
   "source": [
    "df_mirai = vaex.from_csv('Mirai_dataset.csv', header=None)"
   ]
  },
  {
   "cell_type": "code",
   "execution_count": 8,
   "id": "1109edf9",
   "metadata": {},
   "outputs": [],
   "source": [
    "sample_mirai = df_mirai.sample(sample_size, random_state=rand)"
   ]
  },
  {
   "cell_type": "code",
   "execution_count": 9,
   "id": "aa93f491",
   "metadata": {},
   "outputs": [],
   "source": [
    "sample_mirai.export_csv(\"sample/sample_mirai.csv\", header=False)"
   ]
  },
  {
   "cell_type": "code",
   "execution_count": 5,
   "id": "bc42c20e",
   "metadata": {},
   "outputs": [],
   "source": [
    "df_scan = vaex.from_csv('OS Scan_dataset-002.csv', header=None)\n",
    "\n"
   ]
  },
  {
   "cell_type": "code",
   "execution_count": 7,
   "id": "8ccfe3d5",
   "metadata": {},
   "outputs": [],
   "source": [
    "sample_scan = df_scan.sample(sample_size, random_state=rand)"
   ]
  },
  {
   "cell_type": "code",
   "execution_count": 8,
   "id": "515e8e64",
   "metadata": {},
   "outputs": [],
   "source": [
    "sample_scan.export_csv(\"sample_3k/sample_3k_scan.csv\", header=False)"
   ]
  },
  {
   "cell_type": "code",
   "execution_count": 3,
   "id": "f9e1c2b9",
   "metadata": {},
   "outputs": [],
   "source": [
    "df_SSPD = vaex.from_csv('SSDP Flood_dataset-002.csv', header=None)"
   ]
  },
  {
   "cell_type": "code",
   "execution_count": 4,
   "id": "f41bd597",
   "metadata": {},
   "outputs": [],
   "source": [
    "sample_SSPD = df_SSPD.sample(sample_size, random_state=rand)"
   ]
  },
  {
   "cell_type": "code",
   "execution_count": 5,
   "id": "e033ad66",
   "metadata": {},
   "outputs": [],
   "source": [
    "sample_SSPD.export_csv(\"sample_3k/sample_3k_SSPD.csv\", header=False)"
   ]
  },
  {
   "cell_type": "code",
   "execution_count": 3,
   "id": "ea745e17",
   "metadata": {},
   "outputs": [],
   "source": [
    "df_SSL = vaex.from_csv('SSL Renegotiation_dataset-002.csv', header=None)\n",
    "\n",
    "\n"
   ]
  },
  {
   "cell_type": "code",
   "execution_count": 4,
   "id": "6357c975",
   "metadata": {},
   "outputs": [],
   "source": [
    "sample_SSL = df_SSL.sample(sample_size, random_state=rand)"
   ]
  },
  {
   "cell_type": "code",
   "execution_count": 5,
   "id": "6382db2d",
   "metadata": {},
   "outputs": [],
   "source": [
    "sample_SSL.export_csv(\"sample_3k/sample_3k_SSL.csv\", header=False)"
   ]
  },
  {
   "cell_type": "code",
   "execution_count": 3,
   "id": "93ce9a99",
   "metadata": {},
   "outputs": [],
   "source": [
    "df_SYN = vaex.from_csv('SYN DoS_dataset-002.csv', header=None)"
   ]
  },
  {
   "cell_type": "code",
   "execution_count": 4,
   "id": "49b4c647",
   "metadata": {},
   "outputs": [],
   "source": [
    "\n",
    "sample_SYN = df_SYN.sample(sample_size, random_state=rand)"
   ]
  },
  {
   "cell_type": "code",
   "execution_count": 5,
   "id": "900fd190",
   "metadata": {},
   "outputs": [],
   "source": [
    "\n",
    "sample_SYN.export_csv(\"sample_3k/sample_3k_SYN.csv\", header=False)"
   ]
  },
  {
   "cell_type": "code",
   "execution_count": 6,
   "id": "3a7f1f1e",
   "metadata": {},
   "outputs": [],
   "source": [
    "df_video = vaex.from_csv('Video Injection_dataset-002.csv', header=None)"
   ]
  },
  {
   "cell_type": "code",
   "execution_count": 7,
   "id": "e890f3a4",
   "metadata": {},
   "outputs": [],
   "source": [
    "sample_video = df_video.sample(sample_size, random_state=rand)"
   ]
  },
  {
   "cell_type": "code",
   "execution_count": 8,
   "id": "47484515",
   "metadata": {},
   "outputs": [],
   "source": [
    "sample_video.export_csv(\"sample_3k/sample_3k_video.csv\", header=False)"
   ]
  },
  {
   "cell_type": "code",
   "execution_count": 3,
   "id": "bbdc6c7f",
   "metadata": {},
   "outputs": [],
   "source": [
    "df_active_samp = vaex.from_csv(\"sample/sample_active.csv\", header=None)\n",
    "df_ARP_samp = vaex.from_csv(\"sample/sample_ARP.csv\", header=None)\n",
    "df_fuzzing_samp = vaex.from_csv(\"sample/sample_fuzzing.csv\", header=None)\n",
    "df_mirai_samp = vaex.from_csv(\"sample/sample_mirai.csv\", header=None)\n",
    "df_scan_samp = vaex.from_csv(\"sample/sample_scan.csv\", header=None)\n",
    "df_SSL_samp = vaex.from_csv(\"sample/sample_SSL.csv\", header=None)\n",
    "df_SSPD_samp = vaex.from_csv(\"sample/sample_SSPD.csv\", header=None)\n",
    "df_SYN_samp = vaex.from_csv(\"sample/sample_SYN.csv\", header=None)\n",
    "df_video_samp = vaex.from_csv(\"sample/sample_video.csv\", header=None)"
   ]
  },
  {
   "cell_type": "code",
   "execution_count": 9,
   "id": "9a793b32",
   "metadata": {},
   "outputs": [],
   "source": [
    "df_active_samp = vaex.from_csv(\"sample_3k/sample_3k_active.csv\", header=None)\n",
    "df_ARP_samp = vaex.from_csv(\"sample_3k/sample_3k_ARP.csv\", header=None)\n",
    "df_fuzzing_samp = vaex.from_csv(\"sample_3k/sample_3k_fuzzing.csv\", header=None)\n",
    "df_scan_samp = vaex.from_csv(\"sample_3k/sample_3k_scan.csv\", header=None)\n",
    "df_SSL_samp = vaex.from_csv(\"sample_3k/sample_3k_SSL.csv\", header=None)\n",
    "df_SSPD_samp = vaex.from_csv(\"sample_3k/sample_3k_SSPD.csv\", header=None)\n",
    "df_SYN_samp = vaex.from_csv(\"sample_3k/sample_3k_SYN.csv\", header=None)\n",
    "df_video_samp = vaex.from_csv(\"sample_3k/sample_3k_video.csv\", header=None)"
   ]
  },
  {
   "cell_type": "code",
   "execution_count": 5,
   "id": "d6c004d8",
   "metadata": {},
   "outputs": [],
   "source": [
    "active_data = np.matrix(df_active_samp)\n",
    "ARP_data = np.matrix(df_ARP_samp)\n",
    "fuzzing_data = np.matrix(df_fuzzing_samp)\n",
    "scan_data = np.matrix(df_scan_samp)\n",
    "SSL_data = np.matrix(df_SSL_samp)\n",
    "SSPD_data = np.matrix(df_SSPD_samp)\n",
    "SYN_data = np.matrix(df_SYN_samp)\n",
    "video_data = np.matrix(df_video_samp)"
   ]
  },
  {
   "cell_type": "code",
   "execution_count": 7,
   "id": "3281f712",
   "metadata": {},
   "outputs": [],
   "source": [
    "mat_data = np.concatenate((active_data, ARP_data, fuzzing_data, scan_data, SSL_data, SSPD_data, SYN_data, video_data))"
   ]
  },
  {
   "cell_type": "code",
   "execution_count": 8,
   "id": "1437053b",
   "metadata": {},
   "outputs": [
    {
     "ename": "AttributeError",
     "evalue": "'matrix' object has no attribute 'export_csv'",
     "output_type": "error",
     "traceback": [
      "\u001b[1;31m---------------------------------------------------------------------------\u001b[0m",
      "\u001b[1;31mAttributeError\u001b[0m                            Traceback (most recent call last)",
      "\u001b[1;32m~\\AppData\\Local\\Temp/ipykernel_24984/2398124474.py\u001b[0m in \u001b[0;36m<module>\u001b[1;34m\u001b[0m\n\u001b[1;32m----> 1\u001b[1;33m \u001b[0mmat_data\u001b[0m\u001b[1;33m.\u001b[0m\u001b[0mexport_csv\u001b[0m\u001b[1;33m(\u001b[0m\u001b[1;34m\"sample/sample_total.csv\"\u001b[0m\u001b[1;33m,\u001b[0m \u001b[0mheader\u001b[0m\u001b[1;33m=\u001b[0m\u001b[1;32mFalse\u001b[0m\u001b[1;33m)\u001b[0m\u001b[1;33m\u001b[0m\u001b[1;33m\u001b[0m\u001b[0m\n\u001b[0m",
      "\u001b[1;31mAttributeError\u001b[0m: 'matrix' object has no attribute 'export_csv'"
     ]
    }
   ],
   "source": [
    "#mat_data.export_csv(\"sample/sample_total.csv\", header=False)"
   ]
  },
  {
   "cell_type": "code",
   "execution_count": 9,
   "id": "397b80c5",
   "metadata": {},
   "outputs": [
    {
     "data": {
      "text/plain": [
       "matrix([[ 4.71135867e+02,  1.36216140e+03,  1.63601454e+05, ...,\n",
       "          1.81912001e+05,  0.00000000e+00,  0.00000000e+00],\n",
       "        [ 1.69600479e+02,  1.28555334e+03,  1.61360090e+05, ...,\n",
       "          5.67366638e+04, -1.96975846e-01, -3.10613151e-04],\n",
       "        [ 2.40529595e+02,  1.34480365e+03,  1.78088676e+05, ...,\n",
       "          1.81997977e+05, -3.95341352e-16, -9.71714931e-13],\n",
       "        ...,\n",
       "        [ 8.78870899e+01,  1.32324303e+03,  1.87968578e+05, ...,\n",
       "          1.74736922e+05,  0.00000000e+00,  0.00000000e+00],\n",
       "        [ 9.53804248e+01,  1.32048385e+03,  1.80248086e+05, ...,\n",
       "          1.77410179e+05,  0.00000000e+00,  0.00000000e+00],\n",
       "        [ 1.49751744e+02,  1.36959221e+03,  1.64675476e+05, ...,\n",
       "          1.79333430e+05,  0.00000000e+00,  0.00000000e+00]])"
      ]
     },
     "execution_count": 9,
     "metadata": {},
     "output_type": "execute_result"
    }
   ],
   "source": [
    "mat_data"
   ]
  },
  {
   "cell_type": "code",
   "execution_count": 10,
   "id": "a701a630",
   "metadata": {},
   "outputs": [],
   "source": [
    "df_final = vaex.concat([df_active_samp, df_ARP_samp, df_fuzzing_samp, df_scan_samp, df_SSL_samp, df_SSPD_samp, df_SYN_samp, df_video_samp])"
   ]
  },
  {
   "cell_type": "code",
   "execution_count": 11,
   "id": "6bd0b434",
   "metadata": {},
   "outputs": [],
   "source": [
    "df_final.export_csv(\"sample_3k/sample_3k_total.csv\", header=False)"
   ]
  },
  {
   "cell_type": "code",
   "execution_count": null,
   "id": "8509c645",
   "metadata": {},
   "outputs": [],
   "source": []
  }
 ],
 "metadata": {
  "kernelspec": {
   "display_name": "Python 3 (ipykernel)",
   "language": "python",
   "name": "python3"
  },
  "language_info": {
   "codemirror_mode": {
    "name": "ipython",
    "version": 3
   },
   "file_extension": ".py",
   "mimetype": "text/x-python",
   "name": "python",
   "nbconvert_exporter": "python",
   "pygments_lexer": "ipython3",
   "version": "3.9.7"
  }
 },
 "nbformat": 4,
 "nbformat_minor": 5
}
