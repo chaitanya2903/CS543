{
 "cells": [
  {
   "cell_type": "code",
   "execution_count": 1,
   "id": "588c8c31",
   "metadata": {},
   "outputs": [],
   "source": [
    "import vaex\n",
    "import numpy as np"
   ]
  },
  {
   "cell_type": "code",
   "execution_count": 2,
   "id": "b66c6f0d",
   "metadata": {},
   "outputs": [],
   "source": [
    "sample_size = 3000\n",
    "rand = 17"
   ]
  },
  {
   "cell_type": "code",
   "execution_count": null,
   "id": "ced69c13",
   "metadata": {
    "scrolled": true
   },
   "outputs": [],
   "source": [
    "#Importing the labels of each datapoint in a specific attack dataset\n",
    "df_active_labels = vaex.from_csv(\"Active Wiretap_labels.csv\")"
   ]
  },
  {
   "cell_type": "code",
   "execution_count": null,
   "id": "44b45899",
   "metadata": {},
   "outputs": [],
   "source": [
    "#Getting the index values of the data labeled as malicious\n",
    "one_ids = df_active_labels[df_active_labels.x ==1]['Unnamed: 0']\n",
    "one_ids = (one_ids -1).values"
   ]
  },
  {
   "cell_type": "code",
   "execution_count": null,
   "id": "5398e970",
   "metadata": {},
   "outputs": [],
   "source": [
    "one_ids"
   ]
  },
  {
   "cell_type": "code",
   "execution_count": null,
   "id": "7658c210",
   "metadata": {},
   "outputs": [],
   "source": [
    "df_active = vaex.from_csv(\"Active Wiretap_dataset-002.csv\", header=None)"
   ]
  },
  {
   "cell_type": "code",
   "execution_count": null,
   "id": "b8cf614a",
   "metadata": {},
   "outputs": [],
   "source": [
    "df_active_mal = df_active.take(one_ids)"
   ]
  },
  {
   "cell_type": "code",
   "execution_count": null,
   "id": "ecabdeed",
   "metadata": {},
   "outputs": [],
   "source": [
    "#Exporting only the malicious data\n",
    "df_active_mal.export_csv(\"mal_data/Active_Wiretap_Mal.csv\", header=False)"
   ]
  },
  {
   "cell_type": "code",
   "execution_count": null,
   "id": "e846b331",
   "metadata": {},
   "outputs": [],
   "source": [
    "#Sampling the malicious data\n",
    "sample_active_mal = df_active_mal.sample(sample_size, random_state=rand)"
   ]
  },
  {
   "cell_type": "code",
   "execution_count": null,
   "id": "9be99d20",
   "metadata": {},
   "outputs": [],
   "source": [
    "#Exporting the malicious data sample\n",
    "sample_active_mal.export_csv(\"sample_3k_mal/sample_3k_active_mal.csv\", header=False)"
   ]
  },
  {
   "cell_type": "code",
   "execution_count": null,
   "id": "805ed49d",
   "metadata": {},
   "outputs": [],
   "source": []
  },
  {
   "cell_type": "code",
   "execution_count": null,
   "id": "f91deb05",
   "metadata": {},
   "outputs": [],
   "source": [
    "df_ARP_labels = vaex.from_csv(\"ARP MitM_labels.csv\")\n",
    "one_ids = df_ARP_labels[df_ARP_labels.x ==1]['Unnamed: 0']\n",
    "one_ids = (one_ids -1).values\n",
    "df_ARP = vaex.from_csv(\"ARP MitM_dataset-002.csv\", header=None)\n",
    "df_ARP_mal = df_ARP.take(one_ids)\n",
    "df_ARP_mal.export_csv(\"mal_data/ARP_MITM_Mal.csv\", header=False)\n",
    "sample_ARP_mal = df_ARP_mal.sample(sample_size, random_state=rand)\n",
    "sample_ARP_mal.export_csv(\"sample_3k_mal/sample_3k_ARP_mal.csv\", header=False)"
   ]
  },
  {
   "cell_type": "code",
   "execution_count": null,
   "id": "a4da0799",
   "metadata": {},
   "outputs": [],
   "source": []
  },
  {
   "cell_type": "code",
   "execution_count": null,
   "id": "45d131ec",
   "metadata": {},
   "outputs": [],
   "source": [
    "df_fuzzing_labels = vaex.from_csv(\"Fuzzing_labels.csv\")\n",
    "one_ids = df_fuzzing_labels[df_fuzzing_labels.x ==1]['Unnamed: 0']\n",
    "one_ids = (one_ids -1).values\n",
    "df_fuzzing = vaex.from_csv(\"Fuzzing_dataset-002.csv\", header=None)\n",
    "df_fuzzing_mal = df_fuzzing.take(one_ids)\n",
    "df_fuzzing_mal.export_csv(\"mal_data/fuzzing_Mal.csv\", header=False)\n",
    "sample_fuzzing_mal = df_fuzzing_mal.sample(sample_size, random_state=rand)\n",
    "sample_fuzzing_mal.export_csv(\"sample_3k_mal/sample_3k_fuzzing_mal.csv\", header=False)"
   ]
  },
  {
   "cell_type": "code",
   "execution_count": null,
   "id": "da17fe6e",
   "metadata": {},
   "outputs": [],
   "source": []
  },
  {
   "cell_type": "code",
   "execution_count": null,
   "id": "b06ffdea",
   "metadata": {},
   "outputs": [],
   "source": [
    "df_scan_labels = vaex.from_csv(\"OS Scan_labels.csv\")\n",
    "one_ids = df_scan_labels[df_scan_labels.x ==1]['Unnamed: 0']\n",
    "one_ids = (one_ids -1).values\n",
    "df_scan = vaex.from_csv(\"OS Scan_dataset-002.csv\", header=None)\n",
    "df_scan_mal = df_scan.take(one_ids)\n",
    "df_scan_mal.export_csv(\"mal_data/scan_Mal.csv\", header=False)\n",
    "sample_scan_mal = df_scan_mal.sample(sample_size, random_state=rand)\n",
    "sample_scan_mal.export_csv(\"sample_3k_mal/sample_3k_scan_mal.csv\", header=False)"
   ]
  },
  {
   "cell_type": "code",
   "execution_count": null,
   "id": "7425b748",
   "metadata": {},
   "outputs": [],
   "source": []
  },
  {
   "cell_type": "code",
   "execution_count": null,
   "id": "b630af23",
   "metadata": {},
   "outputs": [],
   "source": [
    "df_SSDP_labels = vaex.from_csv(\"SSDP Flood_labels.csv\")\n",
    "one_ids = df_SSDP_labels[df_SSDP_labels.x ==1]['Unnamed: 0']\n",
    "one_ids = (one_ids -1).values\n",
    "df_SSDP = vaex.from_csv(\"SSDP Flood_dataset-002.csv\", header=None)\n",
    "df_SSDP_mal = df_SSDP.take(one_ids)\n",
    "df_SSDP_mal.export_csv(\"mal_data/SSDP_Mal.csv\", header=False)\n",
    "sample_SSDP_mal = df_SSDP_mal.sample(sample_size, random_state=rand)\n",
    "sample_SSDP_mal.export_csv(\"sample_3k_mal/sample_3k_SSDP_mal.csv\", header=False)"
   ]
  },
  {
   "cell_type": "code",
   "execution_count": null,
   "id": "de711f8d",
   "metadata": {},
   "outputs": [],
   "source": []
  },
  {
   "cell_type": "code",
   "execution_count": null,
   "id": "e680c146",
   "metadata": {},
   "outputs": [],
   "source": [
    "df_SSL_labels = vaex.from_csv(\"SSL Renegotiation_labels.csv\")\n",
    "one_ids = df_SSL_labels[df_SSL_labels.x ==1]['Unnamed: 0']\n",
    "one_ids = (one_ids -1).values\n",
    "df_SSL = vaex.from_csv(\"SSL Renegotiation_dataset-002.csv\", header=None)\n",
    "df_SSL_mal = df_SSL.take(one_ids)\n",
    "df_SSL_mal.export_csv(\"mal_data/SSL_Mal.csv\", header=False)\n",
    "sample_SSL_mal = df_SSL_mal.sample(sample_size, random_state=rand)\n",
    "sample_SSL_mal.export_csv(\"sample_3k_mal/sample_3k_SSL_mal.csv\", header=False)"
   ]
  },
  {
   "cell_type": "code",
   "execution_count": null,
   "id": "f2642b92",
   "metadata": {},
   "outputs": [],
   "source": []
  },
  {
   "cell_type": "code",
   "execution_count": null,
   "id": "d91a62c1",
   "metadata": {},
   "outputs": [],
   "source": [
    "df_SYN_labels = vaex.from_csv(\"SYN DoS_labels.csv\")\n",
    "one_ids = df_SYN_labels[df_SYN_labels.x ==1]['Unnamed: 0']\n",
    "one_ids = (one_ids -1).values\n",
    "df_SYN = vaex.from_csv(\"SYN DoS_dataset-002.csv\", header=None)\n",
    "df_SYN_mal = df_SYN.take(one_ids)\n",
    "df_SYN_mal.export_csv(\"mal_data/SYN_Mal.csv\", header=False)\n",
    "sample_SYN_mal = df_SYN_mal.sample(sample_size, random_state=rand)\n",
    "sample_SYN_mal.export_csv(\"sample_3k_mal/sample_3k_SYN_mal.csv\", header=False)"
   ]
  },
  {
   "cell_type": "code",
   "execution_count": null,
   "id": "3151ad01",
   "metadata": {},
   "outputs": [],
   "source": []
  },
  {
   "cell_type": "code",
   "execution_count": null,
   "id": "9cdb34be",
   "metadata": {},
   "outputs": [],
   "source": [
    "df_video_labels = vaex.from_csv(\"Video Injection_labels.csv\")\n",
    "one_ids = df_video_labels[df_video_labels.x ==1]['Unnamed: 0']\n",
    "one_ids = (one_ids -1).values\n",
    "df_video = vaex.from_csv(\"Video Injection_dataset-002.csv\", header=None)\n",
    "df_video_mal = df_video.take(one_ids)\n",
    "df_video_mal.export_csv(\"mal_data/video_Mal.csv\", header=False)\n",
    "sample_video_mal = df_video_mal.sample(sample_size, random_state=rand)\n",
    "sample_video_mal.export_csv(\"sample_3k_mal/sample_3k_video_mal.csv\", header=False)"
   ]
  },
  {
   "cell_type": "code",
   "execution_count": null,
   "id": "f2642603",
   "metadata": {},
   "outputs": [],
   "source": []
  },
  {
   "cell_type": "code",
   "execution_count": null,
   "id": "ddb60e43",
   "metadata": {},
   "outputs": [],
   "source": []
  },
  {
   "cell_type": "code",
   "execution_count": 4,
   "id": "9a793b32",
   "metadata": {},
   "outputs": [],
   "source": [
    "df_active_samp = vaex.from_csv(\"sample_3k_mal/sample_3k_active_mal.csv\", header=None)\n",
    "df_ARP_samp = vaex.from_csv(\"sample_3k_mal/sample_3k_ARP_mal.csv\", header=None)\n",
    "df_fuzzing_samp = vaex.from_csv(\"sample_3k_mal/sample_3k_fuzzing_mal.csv\", header=None)\n",
    "df_scan_samp = vaex.from_csv(\"sample_3k_mal/sample_3k_scan_mal.csv\", header=None)\n",
    "df_SSL_samp = vaex.from_csv(\"sample_3k_mal/sample_3k_SSL_mal.csv\", header=None)\n",
    "df_SSDP_samp = vaex.from_csv(\"sample_3k_mal/sample_3k_SSDP_mal.csv\", header=None)\n",
    "df_SYN_samp = vaex.from_csv(\"sample_3k_mal/sample_3k_SYN_mal.csv\", header=None)\n",
    "df_video_samp = vaex.from_csv(\"sample_3k_mal/sample_3k_video_mal.csv\", header=None)"
   ]
  },
  {
   "cell_type": "code",
   "execution_count": 5,
   "id": "a701a630",
   "metadata": {},
   "outputs": [],
   "source": [
    "#Combining the malicious data samples from each attack type\n",
    "df_total = vaex.concat([df_active_samp, df_ARP_samp, df_fuzzing_samp, df_scan_samp, df_SSL_samp, df_SSDP_samp, df_SYN_samp, df_video_samp])"
   ]
  },
  {
   "cell_type": "code",
   "execution_count": 6,
   "id": "6bd0b434",
   "metadata": {},
   "outputs": [],
   "source": [
    "#Exporting data samples\n",
    "df_total.export_csv(\"sample_3k_mal/sample_3k_total_mal.csv\", header=False)"
   ]
  },
  {
   "cell_type": "code",
   "execution_count": null,
   "id": "8509c645",
   "metadata": {},
   "outputs": [],
   "source": []
  }
 ],
 "metadata": {
  "kernelspec": {
   "display_name": "Python 3 (ipykernel)",
   "language": "python",
   "name": "python3"
  },
  "language_info": {
   "codemirror_mode": {
    "name": "ipython",
    "version": 3
   },
   "file_extension": ".py",
   "mimetype": "text/x-python",
   "name": "python",
   "nbconvert_exporter": "python",
   "pygments_lexer": "ipython3",
   "version": "3.9.7"
  }
 },
 "nbformat": 4,
 "nbformat_minor": 5
}
